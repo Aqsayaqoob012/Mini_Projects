{
 "cells": [
  {
   "cell_type": "markdown",
   "id": "b5ddca85-c2ec-41a1-ae3f-9aa7000a8b46",
   "metadata": {},
   "source": [
    "# Rock , Paper , Scissors game"
   ]
  },
  {
   "cell_type": "code",
   "execution_count": 1,
   "id": "bb2e0676-7d88-45ee-88e8-df01e99c1428",
   "metadata": {},
   "outputs": [
    {
     "name": "stdin",
     "output_type": "stream",
     "text": [
      "Enter Rock, Paper or Scissors: ········\n",
      "Enter Rock, Paper or Scissors: ········\n"
     ]
    },
    {
     "name": "stdout",
     "output_type": "stream",
     "text": [
      "Paper Rock\n",
      "Person_1 Win \n"
     ]
    }
   ],
   "source": [
    "import getpass\n",
    "\n",
    "''' Rock beats Scissors . \n",
    "Scissors beats Paper . \n",
    "Paper beats Rock . '''\n",
    "\n",
    "\n",
    "\n",
    "\n",
    "person_1 = getpass.getpass('Enter Rock, Paper or Scissors:').title()\n",
    "person_2 = getpass.getpass('Enter Rock, Paper or Scissors:').title()\n",
    "print(person_1 , person_2)\n",
    "\n",
    "if person_1 == person_2 :\n",
    "    print(\"It's a Tie!\")\n",
    "\n",
    "elif ( person_1 == 'Rock' and person_2 == 'Scissors' ) or \\\n",
    "     ( person_1 == 'Scissors' and person_2 == 'Paper' ) or \\\n",
    "     ( person_1 == 'Paper' and person_2 == 'Rock' ): \n",
    "    print(\"Person_1 Win \")\n",
    "\n",
    "else :\n",
    "    print(\"Person_2 Win \")\n",
    "    \n"
   ]
  }
 ],
 "metadata": {
  "kernelspec": {
   "display_name": "Python [conda env:base] *",
   "language": "python",
   "name": "conda-base-py"
  },
  "language_info": {
   "codemirror_mode": {
    "name": "ipython",
    "version": 3
   },
   "file_extension": ".py",
   "mimetype": "text/x-python",
   "name": "python",
   "nbconvert_exporter": "python",
   "pygments_lexer": "ipython3",
   "version": "3.12.7"
  }
 },
 "nbformat": 4,
 "nbformat_minor": 5
}
