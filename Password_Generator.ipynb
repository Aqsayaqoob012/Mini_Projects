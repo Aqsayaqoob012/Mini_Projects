{
 "cells": [
  {
   "cell_type": "markdown",
   "id": "fb2e62d7-2f87-4157-b724-cc8486fdc9f2",
   "metadata": {},
   "source": [
    "# Password generator"
   ]
  },
  {
   "cell_type": "code",
   "execution_count": 2,
   "id": "52f775a6-dde0-4d5c-a93a-73a1823789cd",
   "metadata": {},
   "outputs": [
    {
     "name": "stdout",
     "output_type": "stream",
     "text": [
      " Your Random Password is : UvPVR53699`$)\\]_\n"
     ]
    }
   ],
   "source": [
    "import numpy as np\n",
    "import string\n",
    "\n",
    "letters = np.array(list(string.ascii_letters))\n",
    "letter_choice = np.random.choice(letters , size = 5 , replace = False)\n",
    "letter_string = ''.join(letter_choice)\n",
    "\n",
    "\n",
    "numbers = np.random.randint(1,100 , size = 3)\n",
    "number_string = ''.join(map(str , numbers))\n",
    "\n",
    "\n",
    "specials = list(string.punctuation)\n",
    "special_choice = np.random.choice(specials , size = 6)\n",
    "special_string = ''.join(special_choice)\n",
    "\n",
    "\n",
    "random_password = letter_string + number_string + special_string\n",
    "print(f' Your Random Password is : {random_password}'  )"
   ]
  }
 ],
 "metadata": {
  "kernelspec": {
   "display_name": "Python [conda env:base] *",
   "language": "python",
   "name": "conda-base-py"
  },
  "language_info": {
   "codemirror_mode": {
    "name": "ipython",
    "version": 3
   },
   "file_extension": ".py",
   "mimetype": "text/x-python",
   "name": "python",
   "nbconvert_exporter": "python",
   "pygments_lexer": "ipython3",
   "version": "3.12.7"
  }
 },
 "nbformat": 4,
 "nbformat_minor": 5
}
