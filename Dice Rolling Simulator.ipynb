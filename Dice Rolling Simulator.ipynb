{
 "cells": [
  {
   "cell_type": "markdown",
   "id": "cfc92739-cc16-4e38-b0b1-8586d26af85e",
   "metadata": {},
   "source": [
    "# Dice Rolling Simulator"
   ]
  },
  {
   "cell_type": "code",
   "execution_count": 1,
   "id": "2092c71d-bf91-4fd5-8de4-3e94a2f6e6fc",
   "metadata": {},
   "outputs": [
    {
     "name": "stdin",
     "output_type": "stream",
     "text": [
      "To roll the dice, enter 1. To quit, enter 0.  1\n"
     ]
    },
    {
     "name": "stdout",
     "output_type": "stream",
     "text": [
      "4\n"
     ]
    },
    {
     "name": "stdin",
     "output_type": "stream",
     "text": [
      "To roll the dice, enter 1. To quit, enter 0. 1\n"
     ]
    },
    {
     "name": "stdout",
     "output_type": "stream",
     "text": [
      "1\n"
     ]
    },
    {
     "name": "stdin",
     "output_type": "stream",
     "text": [
      "To roll the dice, enter 1. To quit, enter 0. 0\n"
     ]
    },
    {
     "name": "stdout",
     "output_type": "stream",
     "text": [
      "Game Over\n"
     ]
    }
   ],
   "source": [
    "import numpy as np\n",
    "number = int(input('To roll the dice, enter 1. To quit, enter 0. '))\n",
    "is_true = True\n",
    "while is_true == True:\n",
    "    if number == 1:\n",
    "        Dice_number = np.random.randint(1,6)\n",
    "        print(Dice_number)\n",
    "        number = int(input('To roll the dice, enter 1. To quit, enter 0.'))\n",
    "        \n",
    "    else :\n",
    "        print('Game Over')\n",
    "        is_true = False"
   ]
  }
 ],
 "metadata": {
  "kernelspec": {
   "display_name": "Python [conda env:base] *",
   "language": "python",
   "name": "conda-base-py"
  },
  "language_info": {
   "codemirror_mode": {
    "name": "ipython",
    "version": 3
   },
   "file_extension": ".py",
   "mimetype": "text/x-python",
   "name": "python",
   "nbconvert_exporter": "python",
   "pygments_lexer": "ipython3",
   "version": "3.12.7"
  }
 },
 "nbformat": 4,
 "nbformat_minor": 5
}
