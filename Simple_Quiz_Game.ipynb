{
 "cells": [
  {
   "cell_type": "markdown",
   "id": "471ca1cd-30f6-4203-b41f-85ed9d6c7730",
   "metadata": {},
   "source": [
    "# Simple Quiz Game"
   ]
  },
  {
   "cell_type": "code",
   "execution_count": 1,
   "id": "0ba6fe96-33ab-432f-9733-d05faaf0fe14",
   "metadata": {},
   "outputs": [
    {
     "name": "stdout",
     "output_type": "stream",
     "text": [
      "Question: what is the capital of pakistan?\n"
     ]
    },
    {
     "name": "stdin",
     "output_type": "stream",
     "text": [
      "Enter you anwer  Islamabad\n"
     ]
    },
    {
     "name": "stdout",
     "output_type": "stream",
     "text": [
      "----------------------------------------\n",
      "Question: who is the founder of pakistan?\n"
     ]
    },
    {
     "name": "stdin",
     "output_type": "stream",
     "text": [
      "Enter you anwer  muhammad ali jinnah\n"
     ]
    },
    {
     "name": "stdout",
     "output_type": "stream",
     "text": [
      "----------------------------------------\n",
      "Question: which is the largest province of pakistan by area?\n"
     ]
    },
    {
     "name": "stdin",
     "output_type": "stream",
     "text": [
      "Enter you anwer  Balochistan\n"
     ]
    },
    {
     "name": "stdout",
     "output_type": "stream",
     "text": [
      "----------------------------------------\n",
      "Question: what is the national sport of pakistan?\n"
     ]
    },
    {
     "name": "stdin",
     "output_type": "stream",
     "text": [
      "Enter you anwer  circket\n"
     ]
    },
    {
     "name": "stdout",
     "output_type": "stream",
     "text": [
      "----------------------------------------\n",
      "Question: which river is known as the lifeline of pakistan?\n"
     ]
    },
    {
     "name": "stdin",
     "output_type": "stream",
     "text": [
      "Enter you anwer  Indusriver\n"
     ]
    },
    {
     "name": "stdout",
     "output_type": "stream",
     "text": [
      "----------------------------------------\n",
      "Question: when did pakistan gain independence?\n"
     ]
    },
    {
     "name": "stdin",
     "output_type": "stream",
     "text": [
      "Enter you anwer  14 August 1947\n"
     ]
    },
    {
     "name": "stdout",
     "output_type": "stream",
     "text": [
      "----------------------------------------\n",
      "Question: what is the national language of pakistan?\n"
     ]
    },
    {
     "name": "stdin",
     "output_type": "stream",
     "text": [
      "Enter you anwer  urdu\n"
     ]
    },
    {
     "name": "stdout",
     "output_type": "stream",
     "text": [
      "----------------------------------------\n",
      "Question: who is known as the 'father of the nation' in pakistan?\n"
     ]
    },
    {
     "name": "stdin",
     "output_type": "stream",
     "text": [
      "Enter you anwer  Muhammad Ali Jinnah\n"
     ]
    },
    {
     "name": "stdout",
     "output_type": "stream",
     "text": [
      "----------------------------------------\n",
      "Question: which city is called the city of lights in pakistan?\n"
     ]
    },
    {
     "name": "stdin",
     "output_type": "stream",
     "text": [
      "Enter you anwer  karachi\n"
     ]
    },
    {
     "name": "stdout",
     "output_type": "stream",
     "text": [
      "----------------------------------------\n",
      "Question: what is the national flower of pakistan?\n"
     ]
    },
    {
     "name": "stdin",
     "output_type": "stream",
     "text": [
      "Enter you anwer  rose\n"
     ]
    },
    {
     "name": "stdout",
     "output_type": "stream",
     "text": [
      "----------------------------------------\n",
      "Your score : 7 out of 10\n"
     ]
    }
   ],
   "source": [
    "pakistan_gk_list_of_dicts = [\n",
    "    {\"question\": \"What is the capital of Pakistan?\", \"answer\": \"Islamabad\"},\n",
    "    {\"question\": \"Who is the founder of Pakistan?\", \"answer\": \"Muhammad Ali Jinnah\"},\n",
    "    {\"question\": \"Which is the largest province of Pakistan by area?\", \"answer\": \"Balochistan\"},\n",
    "    {\"question\": \"What is the national sport of Pakistan?\", \"answer\": \"Hockey\"},\n",
    "    {\"question\": \"Which river is known as the lifeline of Pakistan?\", \"answer\": \"Indus River\"},\n",
    "    {\"question\": \"When did Pakistan gain independence?\", \"answer\": \"14 August 1947\"},\n",
    "    {\"question\": \"What is the national language of Pakistan?\", \"answer\": \"Urdu\"},\n",
    "    {\"question\": \"Who is known as the 'Father of the Nation' in Pakistan?\", \"answer\": \"Muhammad Ali Jinnah\"},\n",
    "    {\"question\": \"Which city is called the city of lights in Pakistan?\", \"answer\": \"Karachi\"},\n",
    "    {\"question\": \"What is the national flower of Pakistan?\", \"answer\": \"Jasmine\"}\n",
    "\n",
    "]\n",
    "score = 0\n",
    "for item in pakistan_gk_list_of_dicts:\n",
    "    print(\"Question:\", item[\"question\"].lower())\n",
    "    ans = input('Enter you anwer ').lower()\n",
    "    if ans == item['answer'].lower():\n",
    "        score = score + 1\n",
    "    print(\"-\" * 40)\n",
    "\n",
    "print(f'Your score : {score} out of 10')\n",
    "    "
   ]
  }
 ],
 "metadata": {
  "kernelspec": {
   "display_name": "Python [conda env:base] *",
   "language": "python",
   "name": "conda-base-py"
  },
  "language_info": {
   "codemirror_mode": {
    "name": "ipython",
    "version": 3
   },
   "file_extension": ".py",
   "mimetype": "text/x-python",
   "name": "python",
   "nbconvert_exporter": "python",
   "pygments_lexer": "ipython3",
   "version": "3.12.7"
  }
 },
 "nbformat": 4,
 "nbformat_minor": 5
}
