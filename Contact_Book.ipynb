{
 "cells": [
  {
   "cell_type": "markdown",
   "id": "0bc14eba-be8f-499c-8dd3-b9e0d43d2cec",
   "metadata": {},
   "source": [
    "# Contact Book"
   ]
  },
  {
   "cell_type": "code",
   "execution_count": 2,
   "id": "84033aa3-ef43-4629-bb41-33f4fb418081",
   "metadata": {},
   "outputs": [
    {
     "name": "stdout",
     "output_type": "stream",
     "text": [
      "Name: Aqsa, Number: 33333, Email: None\n",
      "Name: Ali, Number: 44444, Email: ali@email.com\n",
      "Found: Aqsa , 33333 , None\n"
     ]
    }
   ],
   "source": [
    "class Contact_book:\n",
    "    contacts = []\n",
    "    def __init__(self , name , number , email='None' ):\n",
    "        self.name = name \n",
    "        self.number = number\n",
    "        self.email = email\n",
    "        Contact_book.contacts.append(self)\n",
    "\n",
    "    def details(self):\n",
    "        return f\"Name: {self.name}, Number: {self.number}, Email: {self.email}\"\n",
    "\n",
    "    def delete(self):\n",
    "        Contact_book.contacts.remove(self)\n",
    "    @classmethod\n",
    "    def view_all(cls):\n",
    "        for c in cls.contacts:\n",
    "            print(c.details())\n",
    "    @classmethod\n",
    "    def search(cls , s_name ):\n",
    "        for c in cls.contacts:\n",
    "            if c.name == s_name:\n",
    "                print(f\"Found: {c.name} , {c.number} , {c.email}\")\n",
    "            return\n",
    "        print(\"Contact not found!\")    \n",
    "        \n",
    "\n",
    "p1 = Contact_book('Aqsa', 33333)\n",
    "p2 = Contact_book('Ali', 44444, 'ali@email.com')\n",
    "Contact_book.view_all()\n",
    "Contact_book.search('Aqsa')\n"
   ]
  }
 ],
 "metadata": {
  "kernelspec": {
   "display_name": "Python [conda env:base] *",
   "language": "python",
   "name": "conda-base-py"
  },
  "language_info": {
   "codemirror_mode": {
    "name": "ipython",
    "version": 3
   },
   "file_extension": ".py",
   "mimetype": "text/x-python",
   "name": "python",
   "nbconvert_exporter": "python",
   "pygments_lexer": "ipython3",
   "version": "3.12.7"
  }
 },
 "nbformat": 4,
 "nbformat_minor": 5
}
