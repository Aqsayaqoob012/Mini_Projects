{
 "cells": [
  {
   "cell_type": "markdown",
   "id": "fccb3f86-1e46-4cdd-a5a8-6bacc235733f",
   "metadata": {},
   "source": [
    "# Login / Register System"
   ]
  },
  {
   "cell_type": "code",
   "execution_count": 1,
   "id": "f7d7b593-e4b1-4c96-9ec2-fa8f69772e81",
   "metadata": {},
   "outputs": [
    {
     "name": "stdout",
     "output_type": "stream",
     "text": [
      "Registration successful!\n",
      "Login successful!\n",
      "Login successful!\n"
     ]
    }
   ],
   "source": [
    "class login_system:\n",
    "    login_details = {\n",
    "        'Aqsa Yaqoob' : 'Aqsa123' , \n",
    "        'Sadia Yaqoob' : 'Sadia123' ,\n",
    "        'Erum Yaqoob' : 'Erum123'\n",
    "    }\n",
    "    def register (self , user_name , password) :\n",
    "        if user_name in login_system.login_details :\n",
    "            print(\"User already exists!\")\n",
    "        else:\n",
    "            login_system.login_details[user_name] = password\n",
    "            print(\"Registration successful!\")\n",
    "\n",
    "    def login (self , user_name , password) :\n",
    "        if user_name in login_system.login_details  and login_system.login_details[user_name] == password :\n",
    "            print(\"Login successful!\")\n",
    "        else:\n",
    "            print(\"Invalid username or password\")\n",
    "\n",
    "\n",
    "\n",
    "system =  login_system()\n",
    "system.register('Mirha' , 'Mirha123')  \n",
    "system.login('Aqsa Yaqoob' , 'Aqsa123')\n",
    "system.login('Mirha' , 'Mirha123')  "
   ]
  }
 ],
 "metadata": {
  "kernelspec": {
   "display_name": "Python [conda env:base] *",
   "language": "python",
   "name": "conda-base-py"
  },
  "language_info": {
   "codemirror_mode": {
    "name": "ipython",
    "version": 3
   },
   "file_extension": ".py",
   "mimetype": "text/x-python",
   "name": "python",
   "nbconvert_exporter": "python",
   "pygments_lexer": "ipython3",
   "version": "3.12.7"
  }
 },
 "nbformat": 4,
 "nbformat_minor": 5
}
