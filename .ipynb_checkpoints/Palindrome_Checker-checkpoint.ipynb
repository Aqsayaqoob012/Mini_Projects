{
 "cells": [
  {
   "cell_type": "markdown",
   "id": "61d7dd37-234a-48be-8526-acc033c43afb",
   "metadata": {},
   "source": [
    "# Palindrome Checker"
   ]
  },
  {
   "cell_type": "code",
   "execution_count": null,
   "id": "cba68497-f3a0-4ee4-88e5-d278a9953681",
   "metadata": {},
   "outputs": [],
   "source": [
    "name = input('To check whether a word is a palindrome or not :').lower()\n",
    "\n",
    "reverse = name[::-1]\n",
    "if name == reverse :\n",
    "    print(\"Yes, it's a palindrome\")\n",
    "else:\n",
    "    print(\"No, it's not a palindrome\")\n"
   ]
  }
 ],
 "metadata": {
  "kernelspec": {
   "display_name": "Python [conda env:base] *",
   "language": "python",
   "name": "conda-base-py"
  },
  "language_info": {
   "codemirror_mode": {
    "name": "ipython",
    "version": 3
   },
   "file_extension": ".py",
   "mimetype": "text/x-python",
   "name": "python",
   "nbconvert_exporter": "python",
   "pygments_lexer": "ipython3",
   "version": "3.12.7"
  }
 },
 "nbformat": 4,
 "nbformat_minor": 5
}
