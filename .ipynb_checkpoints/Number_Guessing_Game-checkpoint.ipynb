{
 "cells": [
  {
   "cell_type": "markdown",
   "id": "10f7fb95-69e7-4f4e-a50a-224f650289ac",
   "metadata": {},
   "source": [
    "# Number Guessing Game"
   ]
  },
  {
   "cell_type": "code",
   "execution_count": 2,
   "id": "456a1c72-5a9b-4a0b-9032-e0b49c2e7150",
   "metadata": {},
   "outputs": [
    {
     "name": "stdin",
     "output_type": "stream",
     "text": [
      "Enter a Number from 1 to 20 : 3\n"
     ]
    },
    {
     "name": "stdout",
     "output_type": "stream",
     "text": [
      "Number is 12  Try Again\n"
     ]
    },
    {
     "name": "stdin",
     "output_type": "stream",
     "text": [
      "Enter a Number from 1 to 20 : 15\n"
     ]
    },
    {
     "name": "stdout",
     "output_type": "stream",
     "text": [
      "Number is 14  Try Again\n"
     ]
    },
    {
     "name": "stdin",
     "output_type": "stream",
     "text": [
      "Enter a Number from 1 to 20 : 16\n"
     ]
    },
    {
     "name": "stdout",
     "output_type": "stream",
     "text": [
      "Number is 2  Try Again\n",
      "Game Over! Better luck next time.\n"
     ]
    }
   ],
   "source": [
    "import numpy as np\n",
    "number = int(input('Enter a Number from 1 to 20 :'))\n",
    "guess_number = np.random.randint(1,20)\n",
    "is_true = False\n",
    "count = 1\n",
    "while (is_true == False) and (count != 3):\n",
    "    if number == guess_number:\n",
    "        print('You Win !')\n",
    "        is_true : True\n",
    "        break\n",
    "    else:\n",
    "        print(f'Number is { guess_number }  Try Again')\n",
    "        number = int(input('Enter a Number from 1 to 20 :'))\n",
    "        guess_number = np.random.randint(1,20)\n",
    "        count = count + 1\n",
    "        \n",
    "if not is_true:\n",
    "    print(f'Number is { guess_number }  Try Again')\n",
    "    print('Game Over! Better luck next time.')      \n",
    "    "
   ]
  }
 ],
 "metadata": {
  "kernelspec": {
   "display_name": "Python [conda env:base] *",
   "language": "python",
   "name": "conda-base-py"
  },
  "language_info": {
   "codemirror_mode": {
    "name": "ipython",
    "version": 3
   },
   "file_extension": ".py",
   "mimetype": "text/x-python",
   "name": "python",
   "nbconvert_exporter": "python",
   "pygments_lexer": "ipython3",
   "version": "3.12.7"
  }
 },
 "nbformat": 4,
 "nbformat_minor": 5
}
