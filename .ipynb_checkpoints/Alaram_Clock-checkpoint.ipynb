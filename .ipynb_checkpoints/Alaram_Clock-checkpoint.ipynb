{
 "cells": [
  {
   "cell_type": "markdown",
   "id": "4cd86243-b649-496d-9e75-b59b058b8a90",
   "metadata": {},
   "source": [
    "# Alaram Clock"
   ]
  },
  {
   "cell_type": "code",
   "execution_count": 1,
   "id": "10f5c0c9-85f3-4367-9136-379465397966",
   "metadata": {},
   "outputs": [
    {
     "name": "stdout",
     "output_type": "stream",
     "text": [
      "08:07:43.994263\n"
     ]
    },
    {
     "name": "stdin",
     "output_type": "stream",
     "text": [
      "Please enter time in HH:MM:SS format (e.g., 08:45:01) :  08:09:00\n"
     ]
    },
    {
     "name": "stdout",
     "output_type": "stream",
     "text": [
      "Valid time \n",
      "Wake Up\n"
     ]
    }
   ],
   "source": [
    "import datetime\n",
    "import time\n",
    "\n",
    "\n",
    "\n",
    "print(datetime.datetime.now().time())\n",
    "\n",
    "alarm_input = input('Please enter time in HH:MM:SS format (e.g., 08:45:01) : ').strip()\n",
    "\n",
    "try :\n",
    "    set_alarm = datetime.datetime.strptime(alarm_input, '%H:%M:%S').time()\n",
    "    print(\"Valid time \")\n",
    "\n",
    "    while True :\n",
    "        now = datetime.datetime.now().time()\n",
    "\n",
    "        if now.hour == set_alarm.hour and now.minute == set_alarm.minute and now.second == set_alarm.second:\n",
    "           print('Wake Up')\n",
    "           break\n",
    "        time.sleep(1) \n",
    "       \n",
    "    \n",
    "\n",
    "except ValueError:\n",
    "    print(\" Invalid format! Please enter time in HH:MM:SS format (e.g., 08:45:01)\")\n",
    "    \n",
    "\n",
    "\n"
   ]
  }
 ],
 "metadata": {
  "kernelspec": {
   "display_name": "Python [conda env:base] *",
   "language": "python",
   "name": "conda-base-py"
  },
  "language_info": {
   "codemirror_mode": {
    "name": "ipython",
    "version": 3
   },
   "file_extension": ".py",
   "mimetype": "text/x-python",
   "name": "python",
   "nbconvert_exporter": "python",
   "pygments_lexer": "ipython3",
   "version": "3.12.7"
  }
 },
 "nbformat": 4,
 "nbformat_minor": 5
}
