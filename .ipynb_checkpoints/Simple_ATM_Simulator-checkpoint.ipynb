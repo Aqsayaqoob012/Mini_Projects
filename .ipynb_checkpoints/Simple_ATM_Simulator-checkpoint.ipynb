{
 "cells": [
  {
   "cell_type": "markdown",
   "id": "e1933c11-493a-48ae-a84f-7e90cdd95903",
   "metadata": {},
   "source": [
    "# Simple ATM Simulator"
   ]
  },
  {
   "cell_type": "code",
   "execution_count": 1,
   "id": "f61f7c8a-72ac-4378-b5b3-31e5a1ac0294",
   "metadata": {},
   "outputs": [
    {
     "name": "stdout",
     "output_type": "stream",
     "text": [
      "correct pin\n",
      "Your balance is 100000\n",
      "Withdrew: 5000. Remaining balance: 95000\n",
      "Deposited: 100000. New balance: 195000\n",
      "\n",
      "\n",
      "Access denied! Wrong PIN.\n"
     ]
    }
   ],
   "source": [
    "class ATM:\n",
    "    PIN = 12345\n",
    "\n",
    "    def __init__(self , pin , balance = 0  ):\n",
    "        self.pin = pin\n",
    "        self.balance = balance\n",
    "        \n",
    "\n",
    "        if self.pin == ATM.PIN :\n",
    "              print('correct pin')\n",
    "            \n",
    "    def check_balance(self):\n",
    "        if self.pin == ATM.PIN :\n",
    "            print(f'Your balance is {self.balance}')\n",
    "\n",
    "        else:\n",
    "            print(\"Access denied! Wrong PIN.\")\n",
    "\n",
    "    def withdraw(self , amount):\n",
    "        if self.pin == ATM.PIN:\n",
    "            if self.balance > amount:\n",
    "                self.balance -=amount\n",
    "                print(f\"Withdrew: {amount}. Remaining balance: {self.balance}\")\n",
    "            else:\n",
    "                print('Insufficent balance')\n",
    "        else:\n",
    "            print(\"Access denied! Wrong PIN.\")        \n",
    "\n",
    "       \n",
    "\n",
    "    def deposit(self , amount) :\n",
    "        if self.pin == ATM.PIN :\n",
    "            self.balance +=amount\n",
    "            print(f\"Deposited: {amount}. New balance: {self.balance}\")\n",
    "\n",
    "        else:\n",
    "            print(\"Access denied! Wrong PIN.\")\n",
    "            \n",
    "        \n",
    "        \n",
    "\n",
    "\n",
    "\n",
    "p1 = ATM(12345, 100000)\n",
    "p1.check_balance()\n",
    "p1.withdraw(5000)\n",
    "p1.deposit(100000)\n",
    "\n",
    "print('\\n')\n",
    "\n",
    "p2=ATM(6780 , 5000)\n",
    "p2.check_balance()\n",
    "    "
   ]
  },
  {
   "cell_type": "code",
   "execution_count": null,
   "id": "2de2f372-33a0-41e8-96f7-fbeff82fbe7a",
   "metadata": {},
   "outputs": [],
   "source": []
  }
 ],
 "metadata": {
  "kernelspec": {
   "display_name": "Python [conda env:base] *",
   "language": "python",
   "name": "conda-base-py"
  },
  "language_info": {
   "codemirror_mode": {
    "name": "ipython",
    "version": 3
   },
   "file_extension": ".py",
   "mimetype": "text/x-python",
   "name": "python",
   "nbconvert_exporter": "python",
   "pygments_lexer": "ipython3",
   "version": "3.12.7"
  }
 },
 "nbformat": 4,
 "nbformat_minor": 5
}
