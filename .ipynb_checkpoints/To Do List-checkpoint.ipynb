{
 "cells": [
  {
   "cell_type": "markdown",
   "id": "1ce44eab-267c-4843-804a-1c8ca04ff535",
   "metadata": {},
   "source": [
    "# To Do List"
   ]
  },
  {
   "cell_type": "code",
   "execution_count": 1,
   "id": "0776631c-acc4-4c26-b6ed-1f7b9555cace",
   "metadata": {},
   "outputs": [
    {
     "name": "stdin",
     "output_type": "stream",
     "text": [
      "Enter your to do list item :  Learn Python \n",
      "For continue enter 1 else 0  1\n",
      "Enter your to do list item :  Sleep Well\n",
      "For continue enter 1 else 0  1\n",
      "Enter your to do list item :  Quiz Prep\n",
      "For continue enter 1 else 0  0\n"
     ]
    },
    {
     "name": "stdout",
     "output_type": "stream",
     "text": [
      "\n",
      "\n",
      "Your To Do List itmes are :\n",
      "1 Learn Python \n",
      "2 Sleep Well\n",
      "3 Quiz Prep\n"
     ]
    }
   ],
   "source": [
    "n=1\n",
    "items = []\n",
    "is_true = True\n",
    "while is_true == True:\n",
    "    if n == 1 :\n",
    "        item = input('Enter your to do list item : ')\n",
    "        items.append(item)\n",
    "        n = int(input('For continue enter 1 else 0 '))\n",
    "\n",
    "    if n == 0:\n",
    "        break\n",
    "\n",
    "print('\\n')\n",
    "\n",
    "print('Your To Do List itmes are :')\n",
    "for num , each_item in enumerate(items , start = 1):\n",
    "    print( num , each_item)\n",
    "    \n"
   ]
  }
 ],
 "metadata": {
  "kernelspec": {
   "display_name": "Python [conda env:base] *",
   "language": "python",
   "name": "conda-base-py"
  },
  "language_info": {
   "codemirror_mode": {
    "name": "ipython",
    "version": 3
   },
   "file_extension": ".py",
   "mimetype": "text/x-python",
   "name": "python",
   "nbconvert_exporter": "python",
   "pygments_lexer": "ipython3",
   "version": "3.12.7"
  }
 },
 "nbformat": 4,
 "nbformat_minor": 5
}
