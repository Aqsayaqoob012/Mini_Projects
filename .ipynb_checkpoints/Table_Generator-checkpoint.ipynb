{
 "cells": [
  {
   "cell_type": "markdown",
   "id": "84fc2375-9188-4119-875f-b9cc18e69056",
   "metadata": {},
   "source": [
    "# Table Generator"
   ]
  },
  {
   "cell_type": "code",
   "execution_count": 1,
   "id": "b40ad9d2-00f1-4795-a055-94b8fdfc9287",
   "metadata": {},
   "outputs": [
    {
     "name": "stdin",
     "output_type": "stream",
     "text": [
      "Enter a number for table  12\n"
     ]
    },
    {
     "name": "stdout",
     "output_type": "stream",
     "text": [
      "12 * 1 = 12 \n",
      "12 * 2 = 24 \n",
      "12 * 3 = 36 \n",
      "12 * 4 = 48 \n",
      "12 * 5 = 60 \n",
      "12 * 6 = 72 \n",
      "12 * 7 = 84 \n",
      "12 * 8 = 96 \n",
      "12 * 9 = 108 \n",
      "12 * 10 = 120 \n"
     ]
    }
   ],
   "source": [
    "number = int(input('Enter a number for table '))\n",
    "for i in range(1 , 11):\n",
    "    print(f'{number} * {i} = {number * i} ')"
   ]
  }
 ],
 "metadata": {
  "kernelspec": {
   "display_name": "Python [conda env:base] *",
   "language": "python",
   "name": "conda-base-py"
  },
  "language_info": {
   "codemirror_mode": {
    "name": "ipython",
    "version": 3
   },
   "file_extension": ".py",
   "mimetype": "text/x-python",
   "name": "python",
   "nbconvert_exporter": "python",
   "pygments_lexer": "ipython3",
   "version": "3.12.7"
  }
 },
 "nbformat": 4,
 "nbformat_minor": 5
}
