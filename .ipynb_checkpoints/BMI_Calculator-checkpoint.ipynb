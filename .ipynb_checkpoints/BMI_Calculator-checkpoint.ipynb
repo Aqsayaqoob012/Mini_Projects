{
 "cells": [
  {
   "cell_type": "markdown",
   "id": "848632fd-e67f-41c4-9f64-06cf900d7ef4",
   "metadata": {},
   "source": [
    "# BMI Calculator"
   ]
  },
  {
   "cell_type": "code",
   "execution_count": 1,
   "id": "c1e8ad50-dc84-49ea-8355-68f9df9d55db",
   "metadata": {},
   "outputs": [
    {
     "name": "stdin",
     "output_type": "stream",
     "text": [
      "Enter your Weight in Kg : 60\n",
      "Enter your Height in m : 164\n"
     ]
    },
    {
     "name": "stdout",
     "output_type": "stream",
     "text": [
      "Category: Underweight \n"
     ]
    }
   ],
   "source": [
    "''' Using the metric system \n",
    "Weight: in kilograms (kg).\n",
    "Height: in meters (m).\n",
    "Formula: BMI = weight (kg) / [height (m)]²\n",
    "\n",
    "\n",
    "BMI Range\t       Category\n",
    "Less than 18.5\t   Underweight \n",
    "18.5 – 24.9\t       Normal \n",
    "25 – 29.9\t       Overweight \n",
    "30 or more\t       Obese \n",
    " '''\n",
    "\n",
    "weight = int(input('Enter your Weight in Kg :'))\n",
    "height = float(input('Enter your Height in m :'))\n",
    "\n",
    "BMI = weight /  (height ** 2 )\n",
    "\n",
    "\n",
    "if BMI < 18.5 :\n",
    "    print('Category: Underweight ')\n",
    "\n",
    "elif 18.5 <= BMI >= 24.5:\n",
    "    print('Category: Normal')\n",
    "\n",
    "elif 25 <= BMI >= 29.9:\n",
    "    print('Category: Overweight')\n",
    "\n",
    "else:\n",
    "    print('Category: Obese')\n",
    "\n",
    "\n"
   ]
  }
 ],
 "metadata": {
  "kernelspec": {
   "display_name": "Python [conda env:base] *",
   "language": "python",
   "name": "conda-base-py"
  },
  "language_info": {
   "codemirror_mode": {
    "name": "ipython",
    "version": 3
   },
   "file_extension": ".py",
   "mimetype": "text/x-python",
   "name": "python",
   "nbconvert_exporter": "python",
   "pygments_lexer": "ipython3",
   "version": "3.12.7"
  }
 },
 "nbformat": 4,
 "nbformat_minor": 5
}
