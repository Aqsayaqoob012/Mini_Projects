{
 "cells": [
  {
   "cell_type": "markdown",
   "id": "fb7be3a0-e1ba-440c-ac45-52b6080764e6",
   "metadata": {},
   "source": [
    "# Simple calculator"
   ]
  },
  {
   "cell_type": "code",
   "execution_count": 1,
   "id": "fb738609-4f44-40b1-9f6d-62b323c1ec8b",
   "metadata": {},
   "outputs": [
    {
     "name": "stdin",
     "output_type": "stream",
     "text": [
      "Enter the number One:  4\n",
      "Enter the operation (+, -, *, /, %):  +\n",
      "Enter the number Two:  4\n"
     ]
    },
    {
     "name": "stdout",
     "output_type": "stream",
     "text": [
      "Result 8\n"
     ]
    }
   ],
   "source": [
    "## def add(a , b):\n",
    "    return a + b\n",
    "    \n",
    "def sub(a , b):\n",
    "    return a - b\n",
    "\n",
    "def multiply(a , b):\n",
    "    return a * b\n",
    "\n",
    "def divide(a , b):\n",
    "    if b == 0 :\n",
    "        return\n",
    "    return a / b\n",
    "\n",
    "def module(a , b):\n",
    "    return a % b\n",
    "\n",
    "operators = {\n",
    "    '+' : add ,\n",
    "    '-' : sub ,\n",
    "    '*' : multiply ,\n",
    "    '/' : divide ,\n",
    "    '%' : module\n",
    "}\n",
    "\n",
    "num1 = int(input(\"Enter the number One: \"))\n",
    "operator = input(\"Enter the operation (+, -, *, /, %): \")\n",
    "num2 = int(input(\"Enter the number Two: \"))\n",
    "if operator  in operators:\n",
    "    result = operators[operator](num1 , num2)\n",
    "    print('Result' , result)\n",
    "\n",
    "else :\n",
    "    print('Invalid Input')"
   ]
  }
 ],
 "metadata": {
  "kernelspec": {
   "display_name": "Python [conda env:base] *",
   "language": "python",
   "name": "conda-base-py"
  },
  "language_info": {
   "codemirror_mode": {
    "name": "ipython",
    "version": 3
   },
   "file_extension": ".py",
   "mimetype": "text/x-python",
   "name": "python",
   "nbconvert_exporter": "python",
   "pygments_lexer": "ipython3",
   "version": "3.12.7"
  }
 },
 "nbformat": 4,
 "nbformat_minor": 5
}
