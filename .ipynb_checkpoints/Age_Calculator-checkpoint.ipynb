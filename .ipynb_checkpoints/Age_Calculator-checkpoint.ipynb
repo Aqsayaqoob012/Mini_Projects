{
 "cells": [
  {
   "cell_type": "markdown",
   "id": "6d143567-3fdc-48fe-9b65-64b9a430594a",
   "metadata": {},
   "source": [
    "# Age calculator"
   ]
  },
  {
   "cell_type": "code",
   "execution_count": 2,
   "id": "debf4639-447f-48aa-950d-6fa1cf05ce07",
   "metadata": {},
   "outputs": [
    {
     "name": "stdin",
     "output_type": "stream",
     "text": [
      "Enter your date of births(YYYY-MM-DD) :  2002-12-11\n"
     ]
    },
    {
     "name": "stdout",
     "output_type": "stream",
     "text": [
      "Your age is 22 years\n"
     ]
    }
   ],
   "source": [
    "import datetime\n",
    "\n",
    "now = datetime.datetime.now()\n",
    "\n",
    "\n",
    "date = input('Enter your date of births(YYYY-MM-DD) : ')\n",
    "\n",
    "date1 = datetime.datetime.strptime(date  , '%Y-%m-%d')\n",
    "\n",
    "difference = now - date1\n",
    "years = difference.days //365\n",
    "print(f'Your age is {years } years')"
   ]
  }
 ],
 "metadata": {
  "kernelspec": {
   "display_name": "Python [conda env:base] *",
   "language": "python",
   "name": "conda-base-py"
  },
  "language_info": {
   "codemirror_mode": {
    "name": "ipython",
    "version": 3
   },
   "file_extension": ".py",
   "mimetype": "text/x-python",
   "name": "python",
   "nbconvert_exporter": "python",
   "pygments_lexer": "ipython3",
   "version": "3.12.7"
  }
 },
 "nbformat": 4,
 "nbformat_minor": 5
}
