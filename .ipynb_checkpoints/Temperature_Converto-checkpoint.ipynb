{
 "cells": [
  {
   "cell_type": "markdown",
   "id": "8ba2075f-078f-46e2-823a-74535b36d9e2",
   "metadata": {},
   "source": [
    "# Temperature Convertor¶"
   ]
  },
  {
   "cell_type": "code",
   "execution_count": 1,
   "id": "9c5a2d65-b9b8-4c51-bbbe-e28ecd5323b5",
   "metadata": {},
   "outputs": [
    {
     "name": "stdin",
     "output_type": "stream",
     "text": [
      "Enter the value :  50\n",
      " Enter 1 for Celsius_To_Fahrenheit , 2 for Fahrenheit_To_Celsius , 3 for Celsius_To_Kelvin , 4 Kelvin_To_Celsius 2\n"
     ]
    },
    {
     "name": "stdout",
     "output_type": "stream",
     "text": [
      "Result :  32.4\n"
     ]
    }
   ],
   "source": [
    "##### def Celsius_To_Fahrenheit( c ):\n",
    "    return ( ( c *  9 / 5  ) + 32 )\n",
    "\n",
    "def Fahrenheit_To_Celsius( f ):\n",
    "    return  (( f - 32 ) * ( 9 / 5 ) )\n",
    "\n",
    "def Celsius_To_Kelvin ( c ):\n",
    "    return  ( c + 273.15 )\n",
    "\n",
    "def Kelvin_To_Celsius ( k ):\n",
    "    return  ( c - 273.15 )\n",
    "\n",
    "operations = {\n",
    "    1 : Celsius_To_Fahrenheit ,\n",
    "    2 : Fahrenheit_To_Celsius ,\n",
    "    3 : Celsius_To_Kelvin ,\n",
    "    4 : Kelvin_To_Celsius\n",
    "}\n",
    "\n",
    "value = float(input(\"Enter the value : \"))\n",
    "user_operation =int(input(' Enter 1 for Celsius_To_Fahrenheit , 2 for Fahrenheit_To_Celsius , 3 for Celsius_To_Kelvin , 4 Kelvin_To_Celsius'))\n",
    "\n",
    "if user_operation in operations:\n",
    "    result = operations[user_operation](value)\n",
    "    print('Result : ' , result)\n",
    "\n",
    "else:\n",
    "    print('invalid  Operation')"
   ]
  }
 ],
 "metadata": {
  "kernelspec": {
   "display_name": "Python [conda env:base] *",
   "language": "python",
   "name": "conda-base-py"
  },
  "language_info": {
   "codemirror_mode": {
    "name": "ipython",
    "version": 3
   },
   "file_extension": ".py",
   "mimetype": "text/x-python",
   "name": "python",
   "nbconvert_exporter": "python",
   "pygments_lexer": "ipython3",
   "version": "3.12.7"
  }
 },
 "nbformat": 4,
 "nbformat_minor": 5
}
