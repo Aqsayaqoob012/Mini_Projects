{
 "cells": [
  {
   "cell_type": "markdown",
   "id": "066d46f9-c5e7-48f4-bbe6-ea12480148b4",
   "metadata": {},
   "source": [
    "# Even / Odd Checker"
   ]
  },
  {
   "cell_type": "code",
   "execution_count": 1,
   "id": "e9bd8841-068f-46ea-ab62-5c05f5c85877",
   "metadata": {},
   "outputs": [
    {
     "name": "stdin",
     "output_type": "stream",
     "text": [
      "Enter a Number to check number is even or odd : 3\n"
     ]
    },
    {
     "name": "stdout",
     "output_type": "stream",
     "text": [
      "Number is odd\n"
     ]
    }
   ],
   "source": [
    "number = int(input('Enter a Number to check number is even or odd :'))\n",
    "if(number % 2 == 0 ):\n",
    "    print('Number is even ')\n",
    "    is_true : True\n",
    "else :\n",
    "    print('Number is odd')"
   ]
  }
 ],
 "metadata": {
  "kernelspec": {
   "display_name": "Python [conda env:base] *",
   "language": "python",
   "name": "conda-base-py"
  },
  "language_info": {
   "codemirror_mode": {
    "name": "ipython",
    "version": 3
   },
   "file_extension": ".py",
   "mimetype": "text/x-python",
   "name": "python",
   "nbconvert_exporter": "python",
   "pygments_lexer": "ipython3",
   "version": "3.12.7"
  }
 },
 "nbformat": 4,
 "nbformat_minor": 5
}
