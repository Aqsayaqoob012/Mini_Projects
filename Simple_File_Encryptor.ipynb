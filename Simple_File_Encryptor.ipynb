{
 "cells": [
  {
   "cell_type": "markdown",
   "id": "ebbcd8cd-c5b5-499a-8da0-79381c55d579",
   "metadata": {},
   "source": [
    "# Simple File Encryptor"
   ]
  },
  {
   "cell_type": "code",
   "execution_count": 21,
   "id": "92b9e26e-cc52-4b0b-85ef-b1900663340b",
   "metadata": {},
   "outputs": [],
   "source": [
    "# Caesar Cipher Algorithm\n",
    "\n",
    "def encrypt(text , shift):\n",
    "    result = ''\n",
    "    for char in text:\n",
    "        if char.isalpha():\n",
    "            if char.isupper():\n",
    "                result+= chr((ord(char) - 65 + shift ) % 26 + 65)\n",
    "            else :\n",
    "                result+= chr((ord(char) - 97 + shift ) % 26 + 97)\n",
    "        else :\n",
    "            result += char\n",
    "\n",
    "    return result\n",
    "             \n",
    "                \n",
    "        "
   ]
  },
  {
   "cell_type": "code",
   "execution_count": 24,
   "id": "5b203776-2c79-4e31-9178-963091633458",
   "metadata": {},
   "outputs": [],
   "source": [
    "def decrypt(cipher, shift):\n",
    "    return encrypt(cipher, -shift)"
   ]
  },
  {
   "cell_type": "code",
   "execution_count": 22,
   "id": "4a8d0d93-92ec-44ff-bd8d-e59866214d32",
   "metadata": {},
   "outputs": [
    {
     "name": "stdout",
     "output_type": "stream",
     "text": [
      "Encrypted: Dtvd Bdtrre\n"
     ]
    }
   ],
   "source": [
    "text = 'Aqsa Yaqoob'\n",
    "shift = 3\n",
    "encrypted = encrypt(text, shift)\n",
    "print(\"Encrypted:\", encrypted )"
   ]
  },
  {
   "cell_type": "code",
   "execution_count": 25,
   "id": "3d3de4ce-f70a-4990-8b21-2174c7fefbf0",
   "metadata": {},
   "outputs": [
    {
     "name": "stdout",
     "output_type": "stream",
     "text": [
      "Decrypted: Aqsa Yaqoob\n"
     ]
    }
   ],
   "source": [
    "\n",
    "decrypted = decrypt(encrypted, shift)\n",
    "print(\"Decrypted:\", decrypted)"
   ]
  },
  {
   "cell_type": "code",
   "execution_count": 40,
   "id": "e11fb12a-2923-44a3-8de5-bba0d86ba4f4",
   "metadata": {},
   "outputs": [
    {
     "name": "stdout",
     "output_type": "stream",
     "text": [
      "Hello , \n",
      "I am Aqsa yaqoob\n",
      "\n"
     ]
    }
   ],
   "source": [
    "with open ('sample.txt' ,  \"r\", encoding=\"utf-8\") as f:\n",
    "    text = f.read()\n",
    "    print(text)"
   ]
  },
  {
   "cell_type": "code",
   "execution_count": 41,
   "id": "0560e40e-9316-45cb-adaa-df9f0c59f2ab",
   "metadata": {},
   "outputs": [],
   "source": [
    "shift = 3\n",
    "encrypted = encrypt(text, shift)\n"
   ]
  },
  {
   "cell_type": "code",
   "execution_count": 42,
   "id": "fb1597ad-e74b-4d7f-9240-f1fb39f4770e",
   "metadata": {},
   "outputs": [],
   "source": [
    "with open(\"encrypted.txt\", \"w\", encoding=\"utf-8\") as f:\n",
    "    f.write(encrypted)"
   ]
  },
  {
   "cell_type": "code",
   "execution_count": 44,
   "id": "69d494b5-2049-4efa-bb4a-45a0d2ac1bc8",
   "metadata": {},
   "outputs": [
    {
     "name": "stdout",
     "output_type": "stream",
     "text": [
      "Khoor , \n",
      "L dp Dtvd bdtrre\n",
      "\n"
     ]
    }
   ],
   "source": [
    "with open ('encrypted.txt' ,  \"r\" ,  encoding=\"utf-8\") as f:\n",
    "    text = f.read()\n",
    "    print(text)"
   ]
  }
 ],
 "metadata": {
  "kernelspec": {
   "display_name": "Python [conda env:base] *",
   "language": "python",
   "name": "conda-base-py"
  },
  "language_info": {
   "codemirror_mode": {
    "name": "ipython",
    "version": 3
   },
   "file_extension": ".py",
   "mimetype": "text/x-python",
   "name": "python",
   "nbconvert_exporter": "python",
   "pygments_lexer": "ipython3",
   "version": "3.12.7"
  }
 },
 "nbformat": 4,
 "nbformat_minor": 5
}
